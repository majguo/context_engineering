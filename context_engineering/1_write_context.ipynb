{
 "cells": [
  {
   "cell_type": "markdown",
   "id": "514e034b",
   "metadata": {},
   "source": [
    "# Writing Context in LangGraph\n",
    "\n",
    "*Writing context means saving it outside the context window to help an agent perform a task.*\n",
    "\n",
    "## Scratchpad\n",
    "\n",
    "When humans solve tasks, we take notes and remember things for future, related tasks. Agents are also gaining these capabilities! Note-taking via a \"[scratchpad](https://www.anthropic.com/engineering/claude-think-tool)\" is one approach to persist information while an agent is performing a task. The central idea is to save information outside of the context window so that it's available to the agent on-demand. [Anthropic's multi-agent researcher](https://www.anthropic.com/engineering/built-multi-agent-research-system) illustrates a clear example of this:\n",
    "\n",
    "> The LeadResearcher begins by thinking through the approach and saving its plan to Memory to persist the context, since if the context window exceeds 200,000 tokens it will be truncated and it is important to retain the plan.\n",
    "\n",
    "It's worth noting that this scratchpad can be implemented in a few different ways. It could be a [tool call](https://www.anthropic.com/engineering/claude-think-tool) that [writes to a file](https://github.com/modelcontextprotocol/servers/tree/main/src/filesystem). It could also just be a field in a runtime [state object](https://langchain-ai.github.io/langgraph/concepts/low_level/#state) that persists during the session. In either case, the intuition is clear: scratchpads let agents save useful information during a session to help them accomplish tasks.\n",
    "\n",
    "### Scratchpad writing in LangGraph\n",
    "\n",
    "LangGraph was designed with first-class support of both thread-scoped ([short-term](https://langchain-ai.github.io/langgraph/concepts/memory/#short-term-memory)) and [long-term memory](https://langchain-ai.github.io/langgraph/concepts/memory/#long-term-memory). Short-term memory uses [checkpointing](https://langchain-ai.github.io/langgraph/concepts/persistence/) to persist [agent state](https://langchain-ai.github.io/langgraph/concepts/low_level/#state) across all steps of an agent session. This is extremely useful as s \"scratchpad\", allowing you to write information to state during agent execution and fetch it later as needed.\n",
    "\n",
    "The state object in LangGraph serves as the central data structure that gets passed between nodes in your graph. It's a Python dictionary that can contain any JSON-serializable values including strings, numbers, lists, and dictionaries. The state acts as a shared workspace where each node can read from and write to specific fields. LangGraph uses TypedDict to provide type hints and structure to the state, making it clear what data is expected and maintained throughout the graph execution.\n",
    "\n",
    "Here we can create a state object."
   ]
  },
  {
   "cell_type": "code",
   "execution_count": 2,
   "id": "83e9da7f",
   "metadata": {},
   "outputs": [],
   "source": [
    "from typing import TypedDict\n",
    "\n",
    "# Graph state\n",
    "class State(TypedDict):\n",
    "    topic: str\n",
    "    joke: str"
   ]
  },
  {
   "cell_type": "markdown",
   "id": "0e2993b0",
   "metadata": {},
   "source": [
    "Once we've defined a state object, how do write context to it using LangGraph?\n",
    "\n",
    "A StateGraph is LangGraph's core abstraction for building stateful, multi-step workflows. Think of it as a directed graph where each node represents a function that can read from and modify the shared state, and edges define the flow of execution between nodes. Nodes are the individual processing steps in your workflow - they receive the current state as input and return updates to be merged back into the state. Edges connect these nodes together, creating a path for execution that can be linear, conditional, or even cyclical depending on your needs.\n",
    "\n",
    "Let's create a [chat model](https://python.langchain.com/api_reference/langchain/chat_models/langchain.chat_models.base.init_chat_model.html) selecting from [Anthropic](https://docs.anthropic.com/en/docs/about-claude/models/overview) and use it with a graph."
   ]
  },
  {
   "cell_type": "code",
   "execution_count": 3,
   "id": "ab896d1e",
   "metadata": {},
   "outputs": [
    {
     "data": {
      "image/png": "[encoded data removed]",
      "text/plain": [
       "<IPython.core.display.Image object>"
      ]
     },
     "metadata": {},
     "output_type": "display_data"
    }
   ],
   "source": [
    "import os\n",
    "import getpass\n",
    "from langgraph.graph import StateGraph, START, END\n",
    "from IPython.display import Image, display\n",
    "\n",
    "def _set_env(var: str):\n",
    "    if not os.environ.get(var):\n",
    "        os.environ[var] = getpass.getpass(f\"{var}: \")\n",
    "\n",
    "_set_env(\"ANTHROPIC_API_KEY\")\n",
    "\n",
    "from langchain.chat_models import init_chat_model\n",
    "llm = init_chat_model(\"anthropic:claude-sonnet-4-20250514\", temperature=0)\n",
    "\n",
    "# Nodes\n",
    "def generate_joke(state: State):\n",
    "    \"\"\"First LLM call to generate initial joke\"\"\"\n",
    "    msg = llm.invoke(f\"Write a short joke about {state['topic']}\")\n",
    "    # Write the joke to state\n",
    "    return {\"joke\": msg.content}\n",
    "\n",
    "# Build workflow\n",
    "workflow = StateGraph(State)\n",
    "\n",
    "# Add nodes\n",
    "workflow.add_node(\"generate_joke\", generate_joke)\n",
    "\n",
    "# Add edges to connect nodes\n",
    "workflow.add_edge(START, \"generate_joke\")\n",
    "workflow.add_edge(\"generate_joke\", END)\n",
    "\n",
    "# Compile\n",
    "chain = workflow.compile()\n",
    "\n",
    "# Show workflow\n",
    "display(Image(chain.get_graph().draw_mermaid_png()))"
   ]
  },
  {
   "cell_type": "code",
   "execution_count": 4,
   "id": "777ddeb9",
   "metadata": {},
   "outputs": [
    {
     "data": {
      "text/plain": [
       "{'topic': 'cats',\n",
       " 'joke': \"Why don't cats ever win races?\\n\\nBecause they always paws right before the finish line!\"}"
      ]
     },
     "execution_count": 4,
     "metadata": {},
     "output_type": "execute_result"
    }
   ],
   "source": [
    "# Invoke\n",
    "joke_generator_state = chain.invoke({\"topic\": \"cats\"})\n",
    "\n",
    "# See joke is in state\n",
    "joke_generator_state"
   ]
  },
  {
   "cell_type": "markdown",
   "id": "4628949e",
   "metadata": {},
   "source": [
    "#### Learn More\n",
    " \n",
    "* `Checkpointing`: Checkpointing in LangGraph creates snapshots of your graph's state after each node execution, enabling powerful capabilities for long-running tasks. These checkpoints act as save points that allow you to pause execution, resume from any point, and even rewind to previous states. This is particularly valuable for complex workflows that might take hours or days to complete, as it provides fault tolerance and the ability to recover from failures without losing progress.\n",
    "\n",
    "* `Human-in-the-loop`: LangGraph's state persistence enables sophisticated human-in-the-loop workflows by allowing execution to be paused at any point and resumed later. This means you can interrupt a running graph, wait for human input or approval, and then continue processing from exactly where you left off. The checkpointed state ensures that all context and progress is preserved across these interruptions, making it possible to build workflows that seamlessly blend automated processing with human oversight and decision-making."
   ]
  },
  {
   "cell_type": "markdown",
   "id": "8b90259f",
   "metadata": {},
   "source": [
    "## Memory \n",
    "\n",
    "Scratchpads helps agents solve a task within a given session, but sometimes agents benefit from remembering things across *many* sessions! [Reflexion](https://arxiv.org/abs/2303.11366) introduced the idea of reflection following each agent turn and re-using these self-generated hints. [Generative Agents](https://ar5iv.labs.arxiv.org/html/2304.03442) created memories synthesized periodically from collections of past agent feedback.\n",
    "\n",
    "These concepts made their way into popular products like [ChatGPT](https://help.openai.com/en/articles/8590148-memory-faq), [Cursor](https://forum.cursor.com/t/0-51-memories-feature/98509), and [Windsurf](https://docs.windsurf.com/windsurf/cascade/memories), which all have mechanisms to auto-generate long-term memories based on user-agent interactions.\n",
    "\n",
    "### Memory writing in LangGraph\n",
    "\n",
    "LangGraph’s long-term memory allows you to persist specific context *across many sessions* with your agent. It is flexible, allowing you to save [individual files](https://langchain-ai.github.io/langgraph/concepts/memory/#profile) (e.g., a user profile) or [collections](https://langchain-ai.github.io/langgraph/concepts/memory/#collection) of memories. In LangGraph, the `InMemoryStore` is just a Python dictionary in memory. LangGraph deployments [support long-term memory](https://github.com/langchain-ai/agents-from-scratch/blob/main/notebooks/memory.ipynb) with persistence on the local filesystem (for local deployments) or PostgreSQL for hosted deployments."
   ]
  },
  {
   "cell_type": "code",
   "execution_count": 5,
   "id": "017c200e",
   "metadata": {},
   "outputs": [],
   "source": [
    "from langgraph.store.memory import InMemoryStore\n",
    "store = InMemoryStore()\n",
    "\n",
    "# Define namespace (user_id, application_context)\n",
    "namespace = (\"rlm\", \"joke_generator\")\n",
    "\n",
    "# Write joke\n",
    "store.put(\n",
    "    namespace, # namespace\n",
    "    \"last_joke\", # key\n",
    "    {\"joke\": joke_generator_state[\"joke\"]} # value\n",
    ")"
   ]
  },
  {
   "cell_type": "code",
   "execution_count": 8,
   "id": "49251dc9",
   "metadata": {},
   "outputs": [],
   "source": [
    "from langgraph.checkpoint.memory import InMemorySaver\n",
    "from langgraph.store.memory import InMemoryStore\n",
    "from langgraph.store.base import BaseStore\n",
    "\n",
    "# Initialize storage and checkpointer\n",
    "checkpointer = InMemorySaver()\n",
    "memory_store = InMemoryStore()\n",
    "\n",
    "# Nodes\n",
    "def generate_joke(state: State, store: BaseStore):\n",
    "    \"\"\"First LLM call to generate initial joke\"\"\"\n",
    "\n",
    "    # Generate joke\n",
    "    msg = llm.invoke(f\"Write a short joke about {state['topic']}\")\n",
    "\n",
    "    # Write joke in memory\n",
    "    store.put(namespace, \"last_joke\", {\"joke\": msg.content})\n",
    "\n",
    "    # Write the joke to state\n",
    "    return {\"joke\": msg.content}\n",
    "\n",
    "# Build workflow\n",
    "workflow = StateGraph(State)\n",
    "\n",
    "# Add nodes\n",
    "workflow.add_node(\"generate_joke\", generate_joke)\n",
    "\n",
    "# Add edges to connect nodes\n",
    "workflow.add_edge(START, \"generate_joke\")\n",
    "workflow.add_edge(\"generate_joke\", END)\n",
    "\n",
    "# Re-compile with checkpointing and memory  \n",
    "chain = workflow.compile(checkpointer=checkpointer, store=memory_store)"
   ]
  },
  {
   "cell_type": "code",
   "execution_count": 9,
   "id": "449c7de2",
   "metadata": {},
   "outputs": [],
   "source": [
    "# Invoke\n",
    "config = {\"configurable\": {\"thread_id\": \"1\"}}\n",
    "joke_generator_state = chain.invoke({\"topic\": \"cats\"}, config)"
   ]
  },
  {
   "cell_type": "code",
   "execution_count": 29,
   "id": "107d5cea",
   "metadata": {},
   "outputs": [
    {
     "name": "stdout",
     "output_type": "stream",
     "text": [
      "Prior joke: Why don't cats ever win at poker?\n",
      "\n",
      "Because they can't help but purr when they have a good hand!\n"
     ]
    }
   ],
   "source": [
    "config = {\"configurable\": {\"thread_id\": \"2\"}}\n",
    "joke_generator_state = chain.invoke({\"topic\": \"cats\"}, config)"
   ]
  },
  {
   "cell_type": "code",
   "execution_count": 10,
   "id": "f7be6b85",
   "metadata": {},
   "outputs": [
    {
     "data": {
      "text/plain": [
       "\"Why don't cats ever win races?\\n\\nBecause they always paws right before the finish line!\""
      ]
     },
     "execution_count": 10,
     "metadata": {},
     "output_type": "execute_result"
    }
   ],
   "source": [
    "joke_generator_state['joke']"
   ]
  },
  {
   "cell_type": "code",
   "execution_count": 11,
   "id": "eb528512",
   "metadata": {},
   "outputs": [
    {
     "data": {
      "text/plain": [
       "{'joke': \"Why don't cats ever win races?\\n\\nBecause they always paws right before the finish line!\"}"
      ]
     },
     "execution_count": 11,
     "metadata": {},
     "output_type": "execute_result"
    }
   ],
   "source": [
    "# Confirm that we wrote the memory\n",
    "memory_store.get(namespace, \"last_joke\").value"
   ]
  },
  {
   "cell_type": "markdown",
   "id": "2268b24b",
   "metadata": {},
   "source": [
    "#### Learn More\n",
    "\n",
    "* [LangMem](https://langchain-ai.github.io/langmem/) provides a set of useful abstractions to aid with writing memories.\n",
    "* [Ambient Agents Course](https://github.com/langchain-ai/agents-from-scratch/blob/main/notebooks/memory.ipynb) provides a great overview of memory with a LangGraph agent."
   ]
  }
 ],
 "metadata": {
  "kernelspec": {
   "display_name": "Python 3",
   "language": "python",
   "name": "python3"
  },
  "language_info": {
   "codemirror_mode": {
    "name": "ipython",
    "version": 3
   },
   "file_extension": ".py",
   "mimetype": "text/x-python",
   "name": "python",
   "nbconvert_exporter": "python",
   "pygments_lexer": "ipython3",
   "version": "3.13.1"
  }
 },
 "nbformat": 4,
 "nbformat_minor": 5
}
